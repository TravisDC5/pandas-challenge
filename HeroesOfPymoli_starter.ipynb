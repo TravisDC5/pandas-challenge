{
 "cells": [
  {
   "cell_type": "markdown",
   "metadata": {},
   "source": [
    "### Heroes Of Pymoli Data Analysis\n",
    "* Of the 1163 active players, the vast majority are male (84%). There also exists, a smaller, but notable proportion of female players (14%).\n",
    "\n",
    "* Our peak age demographic falls between 20-24 (44.8%) with secondary groups falling between 15-19 (18.60%) and 25-29 (13.4%).  \n",
    "-----"
   ]
  },
  {
   "cell_type": "markdown",
   "metadata": {},
   "source": [
    "### Note\n",
    "* Instructions have been included for each segment. You do not have to follow them exactly, but they are included to help you think through the steps."
   ]
  },
  {
   "cell_type": "code",
   "execution_count": 13,
   "metadata": {},
   "outputs": [
    {
     "data": {
      "text/html": [
       "<div>\n",
       "<style scoped>\n",
       "    .dataframe tbody tr th:only-of-type {\n",
       "        vertical-align: middle;\n",
       "    }\n",
       "\n",
       "    .dataframe tbody tr th {\n",
       "        vertical-align: top;\n",
       "    }\n",
       "\n",
       "    .dataframe thead th {\n",
       "        text-align: right;\n",
       "    }\n",
       "</style>\n",
       "<table border=\"1\" class=\"dataframe\">\n",
       "  <thead>\n",
       "    <tr style=\"text-align: right;\">\n",
       "      <th></th>\n",
       "      <th>Purchase ID</th>\n",
       "      <th>SN</th>\n",
       "      <th>Age</th>\n",
       "      <th>Gender</th>\n",
       "      <th>Item ID</th>\n",
       "      <th>Item Name</th>\n",
       "      <th>Price</th>\n",
       "    </tr>\n",
       "  </thead>\n",
       "  <tbody>\n",
       "    <tr>\n",
       "      <th>0</th>\n",
       "      <td>0</td>\n",
       "      <td>Lisim78</td>\n",
       "      <td>20</td>\n",
       "      <td>Male</td>\n",
       "      <td>108</td>\n",
       "      <td>Extraction, Quickblade Of Trembling Hands</td>\n",
       "      <td>3.53</td>\n",
       "    </tr>\n",
       "    <tr>\n",
       "      <th>1</th>\n",
       "      <td>1</td>\n",
       "      <td>Lisovynya38</td>\n",
       "      <td>40</td>\n",
       "      <td>Male</td>\n",
       "      <td>143</td>\n",
       "      <td>Frenzied Scimitar</td>\n",
       "      <td>1.56</td>\n",
       "    </tr>\n",
       "    <tr>\n",
       "      <th>2</th>\n",
       "      <td>2</td>\n",
       "      <td>Ithergue48</td>\n",
       "      <td>24</td>\n",
       "      <td>Male</td>\n",
       "      <td>92</td>\n",
       "      <td>Final Critic</td>\n",
       "      <td>4.88</td>\n",
       "    </tr>\n",
       "    <tr>\n",
       "      <th>3</th>\n",
       "      <td>3</td>\n",
       "      <td>Chamassasya86</td>\n",
       "      <td>24</td>\n",
       "      <td>Male</td>\n",
       "      <td>100</td>\n",
       "      <td>Blindscythe</td>\n",
       "      <td>3.27</td>\n",
       "    </tr>\n",
       "    <tr>\n",
       "      <th>4</th>\n",
       "      <td>4</td>\n",
       "      <td>Iskosia90</td>\n",
       "      <td>23</td>\n",
       "      <td>Male</td>\n",
       "      <td>131</td>\n",
       "      <td>Fury</td>\n",
       "      <td>1.44</td>\n",
       "    </tr>\n",
       "  </tbody>\n",
       "</table>\n",
       "</div>"
      ],
      "text/plain": [
       "   Purchase ID             SN  Age Gender  Item ID  \\\n",
       "0            0        Lisim78   20   Male      108   \n",
       "1            1    Lisovynya38   40   Male      143   \n",
       "2            2     Ithergue48   24   Male       92   \n",
       "3            3  Chamassasya86   24   Male      100   \n",
       "4            4      Iskosia90   23   Male      131   \n",
       "\n",
       "                                   Item Name  Price  \n",
       "0  Extraction, Quickblade Of Trembling Hands   3.53  \n",
       "1                          Frenzied Scimitar   1.56  \n",
       "2                               Final Critic   4.88  \n",
       "3                                Blindscythe   3.27  \n",
       "4                                       Fury   1.44  "
      ]
     },
     "execution_count": 13,
     "metadata": {},
     "output_type": "execute_result"
    }
   ],
   "source": [
    "#Dependencies and Setup\n",
    "import pandas as pd\n",
    "\n",
    "#File to Load (Remember to Change These)\n",
    "file_to_load = \"resources/04-Pandas_HW_Instructions_HeroesOfPymoli_Resources_purchase_data.csv\"\n",
    "\n",
    "#Read Purchasing File and store into Pandas data frame\n",
    "purchase_data_df = pd.read_csv(file_to_load)\n",
    "purchase_data_df.head()"
   ]
  },
  {
   "cell_type": "markdown",
   "metadata": {},
   "source": [
    "## Player Count"
   ]
  },
  {
   "cell_type": "markdown",
   "metadata": {},
   "source": [
    "* Display the total number of players\n"
   ]
  },
  {
   "cell_type": "code",
   "execution_count": 14,
   "metadata": {},
   "outputs": [
    {
     "data": {
      "text/html": [
       "<div>\n",
       "<style scoped>\n",
       "    .dataframe tbody tr th:only-of-type {\n",
       "        vertical-align: middle;\n",
       "    }\n",
       "\n",
       "    .dataframe tbody tr th {\n",
       "        vertical-align: top;\n",
       "    }\n",
       "\n",
       "    .dataframe thead th {\n",
       "        text-align: right;\n",
       "    }\n",
       "</style>\n",
       "<table border=\"1\" class=\"dataframe\">\n",
       "  <thead>\n",
       "    <tr style=\"text-align: right;\">\n",
       "      <th></th>\n",
       "      <th>Total Players</th>\n",
       "    </tr>\n",
       "  </thead>\n",
       "  <tbody>\n",
       "    <tr>\n",
       "      <th>0</th>\n",
       "      <td>576</td>\n",
       "    </tr>\n",
       "  </tbody>\n",
       "</table>\n",
       "</div>"
      ],
      "text/plain": [
       "   Total Players\n",
       "0            576"
      ]
     },
     "execution_count": 14,
     "metadata": {},
     "output_type": "execute_result"
    }
   ],
   "source": [
    "#Creates some new varibales for running calculations\n",
    "uniquePlayer= len(purchase_data_df[\"SN\"].value_counts())\n",
    "uniquePlayer_df=pd.DataFrame([uniquePlayer], columns = [\"Total Players\"])\n",
    "uniquePlayer_df"
   ]
  },
  {
   "cell_type": "markdown",
   "metadata": {},
   "source": [
    "## Purchasing Analysis (Total)"
   ]
  },
  {
   "cell_type": "markdown",
   "metadata": {},
   "source": [
    "* Run basic calculations to obtain number of unique items, average price, etc.\n",
    "\n",
    "\n",
    "* Create a summary data frame to hold the results\n",
    "\n",
    "\n",
    "* Optional: give the displayed data cleaner formatting\n",
    "\n",
    "\n",
    "* Display the summary data frame\n"
   ]
  },
  {
   "cell_type": "code",
   "execution_count": 15,
   "metadata": {
    "scrolled": true
   },
   "outputs": [
    {
     "data": {
      "text/html": [
       "<style  type=\"text/css\" >\n",
       "</style><table id=\"T_36f862fa_7acf_11ea_b1cf_c860007a1325\" ><thead>    <tr>        <th class=\"blank level0\" ></th>        <th class=\"col_heading level0 col0\" >Number of Unique Items</th>        <th class=\"col_heading level0 col1\" >Average Purchase Price</th>        <th class=\"col_heading level0 col2\" >Total Number of Purchases</th>        <th class=\"col_heading level0 col3\" >Total Revenue</th>    </tr></thead><tbody>\n",
       "                <tr>\n",
       "                        <th id=\"T_36f862fa_7acf_11ea_b1cf_c860007a1325level0_row0\" class=\"row_heading level0 row0\" >0</th>\n",
       "                        <td id=\"T_36f862fa_7acf_11ea_b1cf_c860007a1325row0_col0\" class=\"data row0 col0\" >179</td>\n",
       "                        <td id=\"T_36f862fa_7acf_11ea_b1cf_c860007a1325row0_col1\" class=\"data row0 col1\" >$3.05</td>\n",
       "                        <td id=\"T_36f862fa_7acf_11ea_b1cf_c860007a1325row0_col2\" class=\"data row0 col2\" >780</td>\n",
       "                        <td id=\"T_36f862fa_7acf_11ea_b1cf_c860007a1325row0_col3\" class=\"data row0 col3\" >$2379.77</td>\n",
       "            </tr>\n",
       "    </tbody></table>"
      ],
      "text/plain": [
       "<pandas.io.formats.style.Styler at 0x88cfd48>"
      ]
     },
     "execution_count": 15,
     "metadata": {},
     "output_type": "execute_result"
    }
   ],
   "source": [
    "#Creates some new varibales for running calculations\n",
    "uniqueItems = len(purchase_data_df[\"Item Name\"].unique())\n",
    "avgPrice = purchase_data_df[\"Price\"].mean()\n",
    "numPurchase = purchase_data_df[\"Item Name\"].count()\n",
    "totalRevenue = purchase_data_df[\"Price\"].sum()\n",
    "\n",
    "#Create new DataFrame\n",
    "summaryData_df=pd.DataFrame({\"Number of Unique Items\":[uniqueItems],\"Average Purchase Price\":[avgPrice],\n",
    "                            \"Total Number of Purchases\":[numPurchase],\"Total Revenue\":[totalRevenue]})\n",
    "\n",
    "#Formats the data to be displayed\n",
    "summaryData_df.style.format({\"Average Purchase Price\":\"${:.2f}\",\"Total Revenue\":\"${:.2f}\"})"
   ]
  },
  {
   "cell_type": "markdown",
   "metadata": {},
   "source": [
    "## Gender Demographics"
   ]
  },
  {
   "cell_type": "markdown",
   "metadata": {},
   "source": [
    "* Percentage and Count of Male Players\n",
    "\n",
    "\n",
    "* Percentage and Count of Female Players\n",
    "\n",
    "\n",
    "* Percentage and Count of Other / Non-Disclosed\n",
    "\n",
    "\n"
   ]
  },
  {
   "cell_type": "code",
   "execution_count": 16,
   "metadata": {},
   "outputs": [
    {
     "data": {
      "text/html": [
       "<style  type=\"text/css\" >\n",
       "</style><table id=\"T_38176bbe_7acf_11ea_a410_c860007a1325\" ><thead>    <tr>        <th class=\"blank level0\" ></th>        <th class=\"col_heading level0 col0\" >Total Count</th>        <th class=\"col_heading level0 col1\" >Percentage of Players</th>    </tr></thead><tbody>\n",
       "                <tr>\n",
       "                        <th id=\"T_38176bbe_7acf_11ea_a410_c860007a1325level0_row0\" class=\"row_heading level0 row0\" >Male</th>\n",
       "                        <td id=\"T_38176bbe_7acf_11ea_a410_c860007a1325row0_col0\" class=\"data row0 col0\" >484</td>\n",
       "                        <td id=\"T_38176bbe_7acf_11ea_a410_c860007a1325row0_col1\" class=\"data row0 col1\" >84.03%</td>\n",
       "            </tr>\n",
       "            <tr>\n",
       "                        <th id=\"T_38176bbe_7acf_11ea_a410_c860007a1325level0_row1\" class=\"row_heading level0 row1\" >Female</th>\n",
       "                        <td id=\"T_38176bbe_7acf_11ea_a410_c860007a1325row1_col0\" class=\"data row1 col0\" >81</td>\n",
       "                        <td id=\"T_38176bbe_7acf_11ea_a410_c860007a1325row1_col1\" class=\"data row1 col1\" >14.06%</td>\n",
       "            </tr>\n",
       "            <tr>\n",
       "                        <th id=\"T_38176bbe_7acf_11ea_a410_c860007a1325level0_row2\" class=\"row_heading level0 row2\" >Other / Non-Disclosed</th>\n",
       "                        <td id=\"T_38176bbe_7acf_11ea_a410_c860007a1325row2_col0\" class=\"data row2 col0\" >11</td>\n",
       "                        <td id=\"T_38176bbe_7acf_11ea_a410_c860007a1325row2_col1\" class=\"data row2 col1\" >1.91%</td>\n",
       "            </tr>\n",
       "    </tbody></table>"
      ],
      "text/plain": [
       "<pandas.io.formats.style.Styler at 0x8738748>"
      ]
     },
     "execution_count": 16,
     "metadata": {},
     "output_type": "execute_result"
    }
   ],
   "source": [
    "#Groups together similiar genders\n",
    "genderData = purchase_data_df.groupby(\"Gender\")\n",
    "genderCount = genderData.nunique()[\"SN\"]\n",
    "\n",
    "#Calculates the percentages of genders\n",
    "genderPercentage = genderCount / uniquePlayer * 100\n",
    "\n",
    "#Create new DataFrame\n",
    "genderStats_df = pd.DataFrame({ \"Total Count\": genderCount, \"Percentage of Players\": genderPercentage})\n",
    "\n",
    "#Formats the data to be displayed\n",
    "genderStats_df.index.name = None\n",
    "genderStats_df.sort_values([\"Total Count\"], ascending = False).style.format({\"Percentage of Players\":\"{:.2f}%\"})\n",
    "\n"
   ]
  },
  {
   "cell_type": "markdown",
   "metadata": {},
   "source": [
    "\n",
    "## Purchasing Analysis (Gender)"
   ]
  },
  {
   "cell_type": "markdown",
   "metadata": {},
   "source": [
    "* Run basic calculations to obtain purchase count, avg. purchase price, avg. purchase total per person etc. by gender\n",
    "\n",
    "\n",
    "\n",
    "\n",
    "* Create a summary data frame to hold the results\n",
    "\n",
    "\n",
    "* Optional: give the displayed data cleaner formatting\n",
    "\n",
    "\n",
    "* Display the summary data frame"
   ]
  },
  {
   "cell_type": "code",
   "execution_count": 17,
   "metadata": {},
   "outputs": [
    {
     "data": {
      "text/html": [
       "<style  type=\"text/css\" >\n",
       "</style><table id=\"T_3a1fc67e_7acf_11ea_87be_c860007a1325\" ><thead>    <tr>        <th class=\"blank level0\" ></th>        <th class=\"col_heading level0 col0\" >Purchase Count</th>        <th class=\"col_heading level0 col1\" >Average Purchase Price</th>        <th class=\"col_heading level0 col2\" >Total Purchase Value</th>        <th class=\"col_heading level0 col3\" >Avg Total Purchases per Person</th>    </tr>    <tr>        <th class=\"index_name level0\" >Gender</th>        <th class=\"blank\" ></th>        <th class=\"blank\" ></th>        <th class=\"blank\" ></th>        <th class=\"blank\" ></th>    </tr></thead><tbody>\n",
       "                <tr>\n",
       "                        <th id=\"T_3a1fc67e_7acf_11ea_87be_c860007a1325level0_row0\" class=\"row_heading level0 row0\" >Female</th>\n",
       "                        <td id=\"T_3a1fc67e_7acf_11ea_87be_c860007a1325row0_col0\" class=\"data row0 col0\" >113</td>\n",
       "                        <td id=\"T_3a1fc67e_7acf_11ea_87be_c860007a1325row0_col1\" class=\"data row0 col1\" >$3.20</td>\n",
       "                        <td id=\"T_3a1fc67e_7acf_11ea_87be_c860007a1325row0_col2\" class=\"data row0 col2\" >$361.94</td>\n",
       "                        <td id=\"T_3a1fc67e_7acf_11ea_87be_c860007a1325row0_col3\" class=\"data row0 col3\" >4.47</td>\n",
       "            </tr>\n",
       "            <tr>\n",
       "                        <th id=\"T_3a1fc67e_7acf_11ea_87be_c860007a1325level0_row1\" class=\"row_heading level0 row1\" >Male</th>\n",
       "                        <td id=\"T_3a1fc67e_7acf_11ea_87be_c860007a1325row1_col0\" class=\"data row1 col0\" >652</td>\n",
       "                        <td id=\"T_3a1fc67e_7acf_11ea_87be_c860007a1325row1_col1\" class=\"data row1 col1\" >$3.02</td>\n",
       "                        <td id=\"T_3a1fc67e_7acf_11ea_87be_c860007a1325row1_col2\" class=\"data row1 col2\" >$1,967.64</td>\n",
       "                        <td id=\"T_3a1fc67e_7acf_11ea_87be_c860007a1325row1_col3\" class=\"data row1 col3\" >4.07</td>\n",
       "            </tr>\n",
       "            <tr>\n",
       "                        <th id=\"T_3a1fc67e_7acf_11ea_87be_c860007a1325level0_row2\" class=\"row_heading level0 row2\" >Other / Non-Disclosed</th>\n",
       "                        <td id=\"T_3a1fc67e_7acf_11ea_87be_c860007a1325row2_col0\" class=\"data row2 col0\" >15</td>\n",
       "                        <td id=\"T_3a1fc67e_7acf_11ea_87be_c860007a1325row2_col1\" class=\"data row2 col1\" >$3.35</td>\n",
       "                        <td id=\"T_3a1fc67e_7acf_11ea_87be_c860007a1325row2_col2\" class=\"data row2 col2\" >$50.19</td>\n",
       "                        <td id=\"T_3a1fc67e_7acf_11ea_87be_c860007a1325row2_col3\" class=\"data row2 col3\" >4.56</td>\n",
       "            </tr>\n",
       "    </tbody></table>"
      ],
      "text/plain": [
       "<pandas.io.formats.style.Styler at 0x8e42808>"
      ]
     },
     "execution_count": 17,
     "metadata": {},
     "output_type": "execute_result"
    }
   ],
   "source": [
    "#Creates some new varibales for running calculations\n",
    "purchaseCountGender = genderData[\"SN\"].count()\n",
    "purchasePriceGender = genderData[\"Price\"].mean()\n",
    "purchaseSumGender = genderData[\"Price\"].sum()\n",
    "\n",
    "#Drops duplicate players, and groups by gender\n",
    "dupValues = purchase_data_df.drop_duplicates(subset=\"SN\", keep='first')\n",
    "duplicatesPlayer = dupValues.groupby([\"Gender\"])\n",
    "\n",
    "#Calculates Average Total per Person\n",
    "purch_Norm = (genderData[\"Price\"].sum() / duplicatesPlayer[\"SN\"].count())\n",
    "\n",
    "#Create new DataFrame\n",
    "purchaseStats_df = pd.DataFrame({\"Purchase Count\": purchaseCountGender,\n",
    "                              \"Average Purchase Price\": purchasePriceGender,\n",
    "                              \"Total Purchase Value\": purchaseSumGender,\n",
    "                              \"Avg Total Purchases per Person\": purch_Norm})\n",
    "\n",
    "#Sets the index title to Age Ranges\n",
    "purchaseStats_df.index.name = \"Gender\"\n",
    "\n",
    "#Formats the data to be displayed\n",
    "purchaseStats_df.style.format({\"Average Purchase Price\":\"${:,.2f}\",\"Total Purchase Value\":\"${:,.2f}\",\n",
    "                               \"Avg Total Purchases per Person\":\"{:,.2f}\"})\n",
    "\n"
   ]
  },
  {
   "cell_type": "markdown",
   "metadata": {},
   "source": [
    "## Age Demographics"
   ]
  },
  {
   "cell_type": "markdown",
   "metadata": {},
   "source": [
    "* Establish bins for ages\n",
    "\n",
    "\n",
    "* Categorize the existing players using the age bins. Hint: use pd.cut()\n",
    "\n",
    "\n",
    "* Calculate the numbers and percentages by age group\n",
    "\n",
    "\n",
    "* Create a summary data frame to hold the results\n",
    "\n",
    "\n",
    "* Optional: round the percentage column to two decimal points\n",
    "\n",
    "\n",
    "* Display Age Demographics Table\n"
   ]
  },
  {
   "cell_type": "code",
   "execution_count": 18,
   "metadata": {},
   "outputs": [
    {
     "data": {
      "text/html": [
       "<style  type=\"text/css\" >\n",
       "</style><table id=\"T_3b562828_7acf_11ea_b143_c860007a1325\" ><thead>    <tr>        <th class=\"blank level0\" ></th>        <th class=\"col_heading level0 col0\" >Total Count</th>        <th class=\"col_heading level0 col1\" >Percentage of Player</th>    </tr></thead><tbody>\n",
       "                <tr>\n",
       "                        <th id=\"T_3b562828_7acf_11ea_b143_c860007a1325level0_row0\" class=\"row_heading level0 row0\" ><10</th>\n",
       "                        <td id=\"T_3b562828_7acf_11ea_b143_c860007a1325row0_col0\" class=\"data row0 col0\" >17</td>\n",
       "                        <td id=\"T_3b562828_7acf_11ea_b143_c860007a1325row0_col1\" class=\"data row0 col1\" >2.95%</td>\n",
       "            </tr>\n",
       "            <tr>\n",
       "                        <th id=\"T_3b562828_7acf_11ea_b143_c860007a1325level0_row1\" class=\"row_heading level0 row1\" >10-14</th>\n",
       "                        <td id=\"T_3b562828_7acf_11ea_b143_c860007a1325row1_col0\" class=\"data row1 col0\" >22</td>\n",
       "                        <td id=\"T_3b562828_7acf_11ea_b143_c860007a1325row1_col1\" class=\"data row1 col1\" >3.82%</td>\n",
       "            </tr>\n",
       "            <tr>\n",
       "                        <th id=\"T_3b562828_7acf_11ea_b143_c860007a1325level0_row2\" class=\"row_heading level0 row2\" >15-19</th>\n",
       "                        <td id=\"T_3b562828_7acf_11ea_b143_c860007a1325row2_col0\" class=\"data row2 col0\" >107</td>\n",
       "                        <td id=\"T_3b562828_7acf_11ea_b143_c860007a1325row2_col1\" class=\"data row2 col1\" >18.58%</td>\n",
       "            </tr>\n",
       "            <tr>\n",
       "                        <th id=\"T_3b562828_7acf_11ea_b143_c860007a1325level0_row3\" class=\"row_heading level0 row3\" >20-24</th>\n",
       "                        <td id=\"T_3b562828_7acf_11ea_b143_c860007a1325row3_col0\" class=\"data row3 col0\" >258</td>\n",
       "                        <td id=\"T_3b562828_7acf_11ea_b143_c860007a1325row3_col1\" class=\"data row3 col1\" >44.79%</td>\n",
       "            </tr>\n",
       "            <tr>\n",
       "                        <th id=\"T_3b562828_7acf_11ea_b143_c860007a1325level0_row4\" class=\"row_heading level0 row4\" >25-29</th>\n",
       "                        <td id=\"T_3b562828_7acf_11ea_b143_c860007a1325row4_col0\" class=\"data row4 col0\" >77</td>\n",
       "                        <td id=\"T_3b562828_7acf_11ea_b143_c860007a1325row4_col1\" class=\"data row4 col1\" >13.37%</td>\n",
       "            </tr>\n",
       "            <tr>\n",
       "                        <th id=\"T_3b562828_7acf_11ea_b143_c860007a1325level0_row5\" class=\"row_heading level0 row5\" >30-34</th>\n",
       "                        <td id=\"T_3b562828_7acf_11ea_b143_c860007a1325row5_col0\" class=\"data row5 col0\" >52</td>\n",
       "                        <td id=\"T_3b562828_7acf_11ea_b143_c860007a1325row5_col1\" class=\"data row5 col1\" >9.03%</td>\n",
       "            </tr>\n",
       "            <tr>\n",
       "                        <th id=\"T_3b562828_7acf_11ea_b143_c860007a1325level0_row6\" class=\"row_heading level0 row6\" >35-39</th>\n",
       "                        <td id=\"T_3b562828_7acf_11ea_b143_c860007a1325row6_col0\" class=\"data row6 col0\" >31</td>\n",
       "                        <td id=\"T_3b562828_7acf_11ea_b143_c860007a1325row6_col1\" class=\"data row6 col1\" >5.38%</td>\n",
       "            </tr>\n",
       "            <tr>\n",
       "                        <th id=\"T_3b562828_7acf_11ea_b143_c860007a1325level0_row7\" class=\"row_heading level0 row7\" >+40</th>\n",
       "                        <td id=\"T_3b562828_7acf_11ea_b143_c860007a1325row7_col0\" class=\"data row7 col0\" >12</td>\n",
       "                        <td id=\"T_3b562828_7acf_11ea_b143_c860007a1325row7_col1\" class=\"data row7 col1\" >2.08%</td>\n",
       "            </tr>\n",
       "    </tbody></table>"
      ],
      "text/plain": [
       "<pandas.io.formats.style.Styler at 0x8e495c8>"
      ]
     },
     "execution_count": 18,
     "metadata": {},
     "output_type": "execute_result"
    }
   ],
   "source": [
    "#Creates my bins for separating values\n",
    "bins = [0,9.9,14.9,19.9,24.9,29.9,34.9,39.9,99]\n",
    "ageIdx = [\"<10\",\"10-14\",\"15-19\",\"20-24\",\"25-29\",\"30-34\",\"35-39\",\"+40\"]\n",
    "\n",
    "#Adds a new column to original DataFrame of group/similiar age\n",
    "purchase_data_df[\"Age Count\"] = pd.cut(purchase_data_df[\"Age\"], bins, labels=ageIdx)\n",
    "purchase_data_df\n",
    "\n",
    "#Groups together similiar Age\n",
    "ageCount = purchase_data_df.groupby(\"Age Count\")\n",
    "\n",
    "#Creates some new varibales for running calculations\n",
    "totalAgeCount = ageCount[\"SN\"].nunique()\n",
    "agePercentage = (totalAgeCount/uniquePlayer) * 100\n",
    "\n",
    "#Creates a DataFrame using the new variable established above\n",
    "ageCountSummary_df = pd.DataFrame({\"Total Count\": totalAgeCount, \"Percentage of Player\": agePercentage})\n",
    "\n",
    "#Formats the data to be displayed\n",
    "ageCountSummary_df.index.name = None\n",
    "ageCountSummary_df.style.format({\"Percentage of Player\":\"{:,.2f}%\"})\n",
    "\n"
   ]
  },
  {
   "cell_type": "markdown",
   "metadata": {},
   "source": [
    "## Purchasing Analysis (Age)"
   ]
  },
  {
   "cell_type": "markdown",
   "metadata": {},
   "source": [
    "* Bin the purchase_data data frame by age\n",
    "\n",
    "\n",
    "* Run basic calculations to obtain purchase count, avg. purchase price, avg. purchase total per person etc. in the table below\n",
    "\n",
    "\n",
    "* Create a summary data frame to hold the results\n",
    "\n",
    "\n",
    "* Optional: give the displayed data cleaner formatting\n",
    "\n",
    "\n",
    "* Display the summary data frame"
   ]
  },
  {
   "cell_type": "code",
   "execution_count": 7,
   "metadata": {},
   "outputs": [
    {
     "data": {
      "text/html": [
       "<style  type=\"text/css\" >\n",
       "</style><table id=\"T_91d998e8_7ace_11ea_a7d3_c860007a1325\" ><thead>    <tr>        <th class=\"blank level0\" ></th>        <th class=\"col_heading level0 col0\" >Purchase Count</th>        <th class=\"col_heading level0 col1\" >Average Purchase Price</th>        <th class=\"col_heading level0 col2\" >Total Purchase Value</th>        <th class=\"col_heading level0 col3\" >Avg Total Purchase per Person</th>    </tr>    <tr>        <th class=\"index_name level0\" >Age Ranges</th>        <th class=\"blank\" ></th>        <th class=\"blank\" ></th>        <th class=\"blank\" ></th>        <th class=\"blank\" ></th>    </tr></thead><tbody>\n",
       "                <tr>\n",
       "                        <th id=\"T_91d998e8_7ace_11ea_a7d3_c860007a1325level0_row0\" class=\"row_heading level0 row0\" ><10</th>\n",
       "                        <td id=\"T_91d998e8_7ace_11ea_a7d3_c860007a1325row0_col0\" class=\"data row0 col0\" >23</td>\n",
       "                        <td id=\"T_91d998e8_7ace_11ea_a7d3_c860007a1325row0_col1\" class=\"data row0 col1\" >$3.35</td>\n",
       "                        <td id=\"T_91d998e8_7ace_11ea_a7d3_c860007a1325row0_col2\" class=\"data row0 col2\" >$77.13</td>\n",
       "                        <td id=\"T_91d998e8_7ace_11ea_a7d3_c860007a1325row0_col3\" class=\"data row0 col3\" >$4.54</td>\n",
       "            </tr>\n",
       "            <tr>\n",
       "                        <th id=\"T_91d998e8_7ace_11ea_a7d3_c860007a1325level0_row1\" class=\"row_heading level0 row1\" >10-14</th>\n",
       "                        <td id=\"T_91d998e8_7ace_11ea_a7d3_c860007a1325row1_col0\" class=\"data row1 col0\" >28</td>\n",
       "                        <td id=\"T_91d998e8_7ace_11ea_a7d3_c860007a1325row1_col1\" class=\"data row1 col1\" >$2.96</td>\n",
       "                        <td id=\"T_91d998e8_7ace_11ea_a7d3_c860007a1325row1_col2\" class=\"data row1 col2\" >$82.78</td>\n",
       "                        <td id=\"T_91d998e8_7ace_11ea_a7d3_c860007a1325row1_col3\" class=\"data row1 col3\" >$3.76</td>\n",
       "            </tr>\n",
       "            <tr>\n",
       "                        <th id=\"T_91d998e8_7ace_11ea_a7d3_c860007a1325level0_row2\" class=\"row_heading level0 row2\" >15-19</th>\n",
       "                        <td id=\"T_91d998e8_7ace_11ea_a7d3_c860007a1325row2_col0\" class=\"data row2 col0\" >136</td>\n",
       "                        <td id=\"T_91d998e8_7ace_11ea_a7d3_c860007a1325row2_col1\" class=\"data row2 col1\" >$3.04</td>\n",
       "                        <td id=\"T_91d998e8_7ace_11ea_a7d3_c860007a1325row2_col2\" class=\"data row2 col2\" >$412.89</td>\n",
       "                        <td id=\"T_91d998e8_7ace_11ea_a7d3_c860007a1325row2_col3\" class=\"data row2 col3\" >$3.86</td>\n",
       "            </tr>\n",
       "            <tr>\n",
       "                        <th id=\"T_91d998e8_7ace_11ea_a7d3_c860007a1325level0_row3\" class=\"row_heading level0 row3\" >20-24</th>\n",
       "                        <td id=\"T_91d998e8_7ace_11ea_a7d3_c860007a1325row3_col0\" class=\"data row3 col0\" >365</td>\n",
       "                        <td id=\"T_91d998e8_7ace_11ea_a7d3_c860007a1325row3_col1\" class=\"data row3 col1\" >$3.05</td>\n",
       "                        <td id=\"T_91d998e8_7ace_11ea_a7d3_c860007a1325row3_col2\" class=\"data row3 col2\" >$1,114.06</td>\n",
       "                        <td id=\"T_91d998e8_7ace_11ea_a7d3_c860007a1325row3_col3\" class=\"data row3 col3\" >$4.32</td>\n",
       "            </tr>\n",
       "            <tr>\n",
       "                        <th id=\"T_91d998e8_7ace_11ea_a7d3_c860007a1325level0_row4\" class=\"row_heading level0 row4\" >25-29</th>\n",
       "                        <td id=\"T_91d998e8_7ace_11ea_a7d3_c860007a1325row4_col0\" class=\"data row4 col0\" >101</td>\n",
       "                        <td id=\"T_91d998e8_7ace_11ea_a7d3_c860007a1325row4_col1\" class=\"data row4 col1\" >$2.90</td>\n",
       "                        <td id=\"T_91d998e8_7ace_11ea_a7d3_c860007a1325row4_col2\" class=\"data row4 col2\" >$293.00</td>\n",
       "                        <td id=\"T_91d998e8_7ace_11ea_a7d3_c860007a1325row4_col3\" class=\"data row4 col3\" >$3.81</td>\n",
       "            </tr>\n",
       "            <tr>\n",
       "                        <th id=\"T_91d998e8_7ace_11ea_a7d3_c860007a1325level0_row5\" class=\"row_heading level0 row5\" >30-34</th>\n",
       "                        <td id=\"T_91d998e8_7ace_11ea_a7d3_c860007a1325row5_col0\" class=\"data row5 col0\" >73</td>\n",
       "                        <td id=\"T_91d998e8_7ace_11ea_a7d3_c860007a1325row5_col1\" class=\"data row5 col1\" >$2.93</td>\n",
       "                        <td id=\"T_91d998e8_7ace_11ea_a7d3_c860007a1325row5_col2\" class=\"data row5 col2\" >$214.00</td>\n",
       "                        <td id=\"T_91d998e8_7ace_11ea_a7d3_c860007a1325row5_col3\" class=\"data row5 col3\" >$4.12</td>\n",
       "            </tr>\n",
       "            <tr>\n",
       "                        <th id=\"T_91d998e8_7ace_11ea_a7d3_c860007a1325level0_row6\" class=\"row_heading level0 row6\" >35-39</th>\n",
       "                        <td id=\"T_91d998e8_7ace_11ea_a7d3_c860007a1325row6_col0\" class=\"data row6 col0\" >41</td>\n",
       "                        <td id=\"T_91d998e8_7ace_11ea_a7d3_c860007a1325row6_col1\" class=\"data row6 col1\" >$3.60</td>\n",
       "                        <td id=\"T_91d998e8_7ace_11ea_a7d3_c860007a1325row6_col2\" class=\"data row6 col2\" >$147.67</td>\n",
       "                        <td id=\"T_91d998e8_7ace_11ea_a7d3_c860007a1325row6_col3\" class=\"data row6 col3\" >$4.76</td>\n",
       "            </tr>\n",
       "            <tr>\n",
       "                        <th id=\"T_91d998e8_7ace_11ea_a7d3_c860007a1325level0_row7\" class=\"row_heading level0 row7\" >+40</th>\n",
       "                        <td id=\"T_91d998e8_7ace_11ea_a7d3_c860007a1325row7_col0\" class=\"data row7 col0\" >13</td>\n",
       "                        <td id=\"T_91d998e8_7ace_11ea_a7d3_c860007a1325row7_col1\" class=\"data row7 col1\" >$2.94</td>\n",
       "                        <td id=\"T_91d998e8_7ace_11ea_a7d3_c860007a1325row7_col2\" class=\"data row7 col2\" >$38.24</td>\n",
       "                        <td id=\"T_91d998e8_7ace_11ea_a7d3_c860007a1325row7_col3\" class=\"data row7 col3\" >$3.19</td>\n",
       "            </tr>\n",
       "    </tbody></table>"
      ],
      "text/plain": [
       "<pandas.io.formats.style.Styler at 0x8e49748>"
      ]
     },
     "execution_count": 7,
     "metadata": {},
     "output_type": "execute_result"
    }
   ],
   "source": [
    "#Creates some new varibales for running calculations\n",
    "purchaseDataAge = ageCount[\"Purchase ID\"].count()\n",
    "totalPurchaseAge = ageCount[\"Price\"].sum()\n",
    "avgPurchaseAge = ageCount[\"Price\"].mean()\n",
    "\n",
    "#Calculates average total purchase\n",
    "purchasePerPlayer = totalPurchaseAge/totalAgeCount\n",
    "\n",
    "#Creates a DataFrame using the new variable established above\n",
    "purchaseCountSummary_df = pd.DataFrame({\"Purchase Count\": purchaseDataAge, \"Average Purchase Price\": avgPurchaseAge, \n",
    "                                        \"Total Purchase Value\": totalPurchaseAge, \"Avg Total Purchase per Person\": purchasePerPlayer})\n",
    "#Sets the index title to Age Ranges\n",
    "purchaseCountSummary_df.index.name = \"Age Ranges\"\n",
    "\n",
    "#Formats the data to be displayed\n",
    "purchaseCountSummary_df.style.format({\"Average Purchase Price\":\"${:,.2f}\",\"Total Purchase Value\":\"${:,.2F}\",\n",
    "                                      \"Avg Total Purchase per Person\":\"${:,.2f}\"})\n",
    "\n"
   ]
  },
  {
   "cell_type": "markdown",
   "metadata": {},
   "source": [
    "## Top Spenders"
   ]
  },
  {
   "cell_type": "markdown",
   "metadata": {},
   "source": [
    "* Run basic calculations to obtain the results in the table below\n",
    "\n",
    "\n",
    "* Create a summary data frame to hold the results\n",
    "\n",
    "\n",
    "* Sort the total purchase value column in descending order\n",
    "\n",
    "\n",
    "* Optional: give the displayed data cleaner formatting\n",
    "\n",
    "\n",
    "* Display a preview of the summary data frame\n",
    "\n"
   ]
  },
  {
   "cell_type": "code",
   "execution_count": 8,
   "metadata": {},
   "outputs": [
    {
     "data": {
      "text/html": [
       "<style  type=\"text/css\" >\n",
       "</style><table id=\"T_9379ba70_7ace_11ea_bda4_c860007a1325\" ><thead>    <tr>        <th class=\"blank level0\" ></th>        <th class=\"col_heading level0 col0\" >Purchase Count</th>        <th class=\"col_heading level0 col1\" >Average Purchase Price</th>        <th class=\"col_heading level0 col2\" >Total Purchase Value</th>    </tr>    <tr>        <th class=\"index_name level0\" >SN</th>        <th class=\"blank\" ></th>        <th class=\"blank\" ></th>        <th class=\"blank\" ></th>    </tr></thead><tbody>\n",
       "                <tr>\n",
       "                        <th id=\"T_9379ba70_7ace_11ea_bda4_c860007a1325level0_row0\" class=\"row_heading level0 row0\" >Lisosia93</th>\n",
       "                        <td id=\"T_9379ba70_7ace_11ea_bda4_c860007a1325row0_col0\" class=\"data row0 col0\" >5</td>\n",
       "                        <td id=\"T_9379ba70_7ace_11ea_bda4_c860007a1325row0_col1\" class=\"data row0 col1\" >$3.79</td>\n",
       "                        <td id=\"T_9379ba70_7ace_11ea_bda4_c860007a1325row0_col2\" class=\"data row0 col2\" >$18.96</td>\n",
       "            </tr>\n",
       "            <tr>\n",
       "                        <th id=\"T_9379ba70_7ace_11ea_bda4_c860007a1325level0_row1\" class=\"row_heading level0 row1\" >Idastidru52</th>\n",
       "                        <td id=\"T_9379ba70_7ace_11ea_bda4_c860007a1325row1_col0\" class=\"data row1 col0\" >4</td>\n",
       "                        <td id=\"T_9379ba70_7ace_11ea_bda4_c860007a1325row1_col1\" class=\"data row1 col1\" >$3.86</td>\n",
       "                        <td id=\"T_9379ba70_7ace_11ea_bda4_c860007a1325row1_col2\" class=\"data row1 col2\" >$15.45</td>\n",
       "            </tr>\n",
       "            <tr>\n",
       "                        <th id=\"T_9379ba70_7ace_11ea_bda4_c860007a1325level0_row2\" class=\"row_heading level0 row2\" >Chamjask73</th>\n",
       "                        <td id=\"T_9379ba70_7ace_11ea_bda4_c860007a1325row2_col0\" class=\"data row2 col0\" >3</td>\n",
       "                        <td id=\"T_9379ba70_7ace_11ea_bda4_c860007a1325row2_col1\" class=\"data row2 col1\" >$4.61</td>\n",
       "                        <td id=\"T_9379ba70_7ace_11ea_bda4_c860007a1325row2_col2\" class=\"data row2 col2\" >$13.83</td>\n",
       "            </tr>\n",
       "            <tr>\n",
       "                        <th id=\"T_9379ba70_7ace_11ea_bda4_c860007a1325level0_row3\" class=\"row_heading level0 row3\" >Iral74</th>\n",
       "                        <td id=\"T_9379ba70_7ace_11ea_bda4_c860007a1325row3_col0\" class=\"data row3 col0\" >4</td>\n",
       "                        <td id=\"T_9379ba70_7ace_11ea_bda4_c860007a1325row3_col1\" class=\"data row3 col1\" >$3.40</td>\n",
       "                        <td id=\"T_9379ba70_7ace_11ea_bda4_c860007a1325row3_col2\" class=\"data row3 col2\" >$13.62</td>\n",
       "            </tr>\n",
       "            <tr>\n",
       "                        <th id=\"T_9379ba70_7ace_11ea_bda4_c860007a1325level0_row4\" class=\"row_heading level0 row4\" >Iskadarya95</th>\n",
       "                        <td id=\"T_9379ba70_7ace_11ea_bda4_c860007a1325row4_col0\" class=\"data row4 col0\" >3</td>\n",
       "                        <td id=\"T_9379ba70_7ace_11ea_bda4_c860007a1325row4_col1\" class=\"data row4 col1\" >$4.37</td>\n",
       "                        <td id=\"T_9379ba70_7ace_11ea_bda4_c860007a1325row4_col2\" class=\"data row4 col2\" >$13.10</td>\n",
       "            </tr>\n",
       "    </tbody></table>"
      ],
      "text/plain": [
       "<pandas.io.formats.style.Styler at 0x8e49d48>"
      ]
     },
     "execution_count": 8,
     "metadata": {},
     "output_type": "execute_result"
    }
   ],
   "source": [
    "#Groups together similiar SN's\n",
    "selectedPlayerStats = purchase_data_df.groupby(\"SN\")\n",
    "\n",
    "#Creates some new varibales for running calculations\n",
    "purchaseCountPlayer = selectedPlayerStats[\"Purchase ID\"].count()\n",
    "totalPurchasePlayer = selectedPlayerStats[\"Price\"].sum()\n",
    "avgPurchasePlayer = selectedPlayerStats[\"Price\"].mean()\n",
    "\n",
    "#Creates a DataFrame using the new variable established above\n",
    "valuedPlayer_df =pd.DataFrame({\"Purchase Count\": purchaseCountPlayer, \"Average Purchase Price\": avgPurchasePlayer,\n",
    "                              \"Total Purchase Value\": totalPurchasePlayer})\n",
    "\n",
    "#Sets the DataFrame to a new variable for transformation\n",
    "valuedPlayerFormat = valuedPlayer_df.sort_values(by=\"Total Purchase Value\", ascending = False).head()\n",
    "\n",
    "#Formats the data to be displayed\n",
    "valuedPlayerFormat.style.format({\"Average Purchase Total\":\"${:,.2f}\", \"Average Purchase Price\":\"${:,.2f}\", \n",
    "                            \"Total Purchase Value\":\"${:,.2f}\"})\n",
    "\n"
   ]
  },
  {
   "cell_type": "markdown",
   "metadata": {},
   "source": [
    "## Most Popular Items"
   ]
  },
  {
   "cell_type": "markdown",
   "metadata": {},
   "source": [
    "* Retrieve the Item ID, Item Name, and Item Price columns\n",
    "\n",
    "\n",
    "* Group by Item ID and Item Name. Perform calculations to obtain purchase count, item price, and total purchase value\n",
    "\n",
    "\n",
    "* Create a summary data frame to hold the results\n",
    "\n",
    "\n",
    "* Sort the purchase count column in descending order\n",
    "\n",
    "\n",
    "* Optional: give the displayed data cleaner formatting\n",
    "\n",
    "\n",
    "* Display a preview of the summary data frame\n",
    "\n"
   ]
  },
  {
   "cell_type": "code",
   "execution_count": 9,
   "metadata": {},
   "outputs": [
    {
     "data": {
      "text/html": [
       "<style  type=\"text/css\" >\n",
       "</style><table id=\"T_966832cc_7ace_11ea_907f_c860007a1325\" ><thead>    <tr>        <th class=\"blank\" ></th>        <th class=\"blank level0\" ></th>        <th class=\"col_heading level0 col0\" >Purchase Count</th>        <th class=\"col_heading level0 col1\" >Item Price</th>        <th class=\"col_heading level0 col2\" >Total Purchase Value</th>    </tr>    <tr>        <th class=\"index_name level0\" >Item ID</th>        <th class=\"index_name level1\" >Item Name</th>        <th class=\"blank\" ></th>        <th class=\"blank\" ></th>        <th class=\"blank\" ></th>    </tr></thead><tbody>\n",
       "                <tr>\n",
       "                        <th id=\"T_966832cc_7ace_11ea_907f_c860007a1325level0_row0\" class=\"row_heading level0 row0\" >92</th>\n",
       "                        <th id=\"T_966832cc_7ace_11ea_907f_c860007a1325level1_row0\" class=\"row_heading level1 row0\" >Final Critic</th>\n",
       "                        <td id=\"T_966832cc_7ace_11ea_907f_c860007a1325row0_col0\" class=\"data row0 col0\" >13</td>\n",
       "                        <td id=\"T_966832cc_7ace_11ea_907f_c860007a1325row0_col1\" class=\"data row0 col1\" >$4.61</td>\n",
       "                        <td id=\"T_966832cc_7ace_11ea_907f_c860007a1325row0_col2\" class=\"data row0 col2\" >$59.99</td>\n",
       "            </tr>\n",
       "            <tr>\n",
       "                        <th id=\"T_966832cc_7ace_11ea_907f_c860007a1325level0_row1\" class=\"row_heading level0 row1\" >178</th>\n",
       "                        <th id=\"T_966832cc_7ace_11ea_907f_c860007a1325level1_row1\" class=\"row_heading level1 row1\" >Oathbreaker, Last Hope of the Breaking Storm</th>\n",
       "                        <td id=\"T_966832cc_7ace_11ea_907f_c860007a1325row1_col0\" class=\"data row1 col0\" >12</td>\n",
       "                        <td id=\"T_966832cc_7ace_11ea_907f_c860007a1325row1_col1\" class=\"data row1 col1\" >$4.23</td>\n",
       "                        <td id=\"T_966832cc_7ace_11ea_907f_c860007a1325row1_col2\" class=\"data row1 col2\" >$50.76</td>\n",
       "            </tr>\n",
       "            <tr>\n",
       "                        <th id=\"T_966832cc_7ace_11ea_907f_c860007a1325level0_row2\" class=\"row_heading level0 row2\" >145</th>\n",
       "                        <th id=\"T_966832cc_7ace_11ea_907f_c860007a1325level1_row2\" class=\"row_heading level1 row2\" >Fiery Glass Crusader</th>\n",
       "                        <td id=\"T_966832cc_7ace_11ea_907f_c860007a1325row2_col0\" class=\"data row2 col0\" >9</td>\n",
       "                        <td id=\"T_966832cc_7ace_11ea_907f_c860007a1325row2_col1\" class=\"data row2 col1\" >$4.58</td>\n",
       "                        <td id=\"T_966832cc_7ace_11ea_907f_c860007a1325row2_col2\" class=\"data row2 col2\" >$41.22</td>\n",
       "            </tr>\n",
       "            <tr>\n",
       "                        <th id=\"T_966832cc_7ace_11ea_907f_c860007a1325level0_row3\" class=\"row_heading level0 row3\" >132</th>\n",
       "                        <th id=\"T_966832cc_7ace_11ea_907f_c860007a1325level1_row3\" class=\"row_heading level1 row3\" >Persuasion</th>\n",
       "                        <td id=\"T_966832cc_7ace_11ea_907f_c860007a1325row3_col0\" class=\"data row3 col0\" >9</td>\n",
       "                        <td id=\"T_966832cc_7ace_11ea_907f_c860007a1325row3_col1\" class=\"data row3 col1\" >$3.22</td>\n",
       "                        <td id=\"T_966832cc_7ace_11ea_907f_c860007a1325row3_col2\" class=\"data row3 col2\" >$28.99</td>\n",
       "            </tr>\n",
       "            <tr>\n",
       "                        <th id=\"T_966832cc_7ace_11ea_907f_c860007a1325level0_row4\" class=\"row_heading level0 row4\" >108</th>\n",
       "                        <th id=\"T_966832cc_7ace_11ea_907f_c860007a1325level1_row4\" class=\"row_heading level1 row4\" >Extraction, Quickblade Of Trembling Hands</th>\n",
       "                        <td id=\"T_966832cc_7ace_11ea_907f_c860007a1325row4_col0\" class=\"data row4 col0\" >9</td>\n",
       "                        <td id=\"T_966832cc_7ace_11ea_907f_c860007a1325row4_col1\" class=\"data row4 col1\" >$3.53</td>\n",
       "                        <td id=\"T_966832cc_7ace_11ea_907f_c860007a1325row4_col2\" class=\"data row4 col2\" >$31.77</td>\n",
       "            </tr>\n",
       "    </tbody></table>"
      ],
      "text/plain": [
       "<pandas.io.formats.style.Styler at 0x8e3aec8>"
      ]
     },
     "execution_count": 9,
     "metadata": {},
     "output_type": "execute_result"
    }
   ],
   "source": [
    "#Creates a series from the original DataFrame\n",
    "itemList = purchase_data_df[[\"Item ID\",\"Item Name\", \"Price\"]]\n",
    "\n",
    "#Groups together two columns\n",
    "itemData = itemList.groupby([\"Item ID\",\"Item Name\"])\n",
    "\n",
    "#Creates some new varibales for running calculations\n",
    "itemPurchaseCount = itemData[\"Price\"].count()\n",
    "itemPurchaseValue = itemData[\"Price\"].sum()\n",
    "itemPrice = itemPurchaseValue / itemPurchaseCount\n",
    "\n",
    "#Creates a DataFrame using the new variable established above\n",
    "item_df = pd.DataFrame({\"Purchase Count\": itemPurchaseCount, \"Item Price\": itemPrice, \n",
    "                        \"Total Purchase Value\": itemPurchaseValue })\n",
    "\n",
    "#Sets the DataFrame to a new variable for transformation\n",
    "itemFormatPopular = item_df.sort_values([\"Purchase Count\"], ascending = False).head()\n",
    "\n",
    "#Formats the data to be displayed\n",
    "itemFormatPopular.style.format({\"Item Price\":\"${:,.2f}\", \"Total Purchase Value\":\"${:,.2f}\"})\n"
   ]
  },
  {
   "cell_type": "markdown",
   "metadata": {},
   "source": [
    "## Most Profitable Items"
   ]
  },
  {
   "cell_type": "markdown",
   "metadata": {},
   "source": [
    "* Sort the above table by total purchase value in descending order\n",
    "\n",
    "\n",
    "* Optional: give the displayed data cleaner formatting\n",
    "\n",
    "\n",
    "* Display a preview of the data frame\n",
    "\n"
   ]
  },
  {
   "cell_type": "code",
   "execution_count": 10,
   "metadata": {
    "scrolled": true
   },
   "outputs": [
    {
     "data": {
      "text/html": [
       "<style  type=\"text/css\" >\n",
       "</style><table id=\"T_9a5b4dba_7ace_11ea_a9db_c860007a1325\" ><thead>    <tr>        <th class=\"blank\" ></th>        <th class=\"blank level0\" ></th>        <th class=\"col_heading level0 col0\" >Purchase Count</th>        <th class=\"col_heading level0 col1\" >Item Price</th>        <th class=\"col_heading level0 col2\" >Total Purchase Value</th>    </tr>    <tr>        <th class=\"index_name level0\" >Item ID</th>        <th class=\"index_name level1\" >Item Name</th>        <th class=\"blank\" ></th>        <th class=\"blank\" ></th>        <th class=\"blank\" ></th>    </tr></thead><tbody>\n",
       "                <tr>\n",
       "                        <th id=\"T_9a5b4dba_7ace_11ea_a9db_c860007a1325level0_row0\" class=\"row_heading level0 row0\" >92</th>\n",
       "                        <th id=\"T_9a5b4dba_7ace_11ea_a9db_c860007a1325level1_row0\" class=\"row_heading level1 row0\" >Final Critic</th>\n",
       "                        <td id=\"T_9a5b4dba_7ace_11ea_a9db_c860007a1325row0_col0\" class=\"data row0 col0\" >13</td>\n",
       "                        <td id=\"T_9a5b4dba_7ace_11ea_a9db_c860007a1325row0_col1\" class=\"data row0 col1\" >$4.61</td>\n",
       "                        <td id=\"T_9a5b4dba_7ace_11ea_a9db_c860007a1325row0_col2\" class=\"data row0 col2\" >$59.99</td>\n",
       "            </tr>\n",
       "            <tr>\n",
       "                        <th id=\"T_9a5b4dba_7ace_11ea_a9db_c860007a1325level0_row1\" class=\"row_heading level0 row1\" >178</th>\n",
       "                        <th id=\"T_9a5b4dba_7ace_11ea_a9db_c860007a1325level1_row1\" class=\"row_heading level1 row1\" >Oathbreaker, Last Hope of the Breaking Storm</th>\n",
       "                        <td id=\"T_9a5b4dba_7ace_11ea_a9db_c860007a1325row1_col0\" class=\"data row1 col0\" >12</td>\n",
       "                        <td id=\"T_9a5b4dba_7ace_11ea_a9db_c860007a1325row1_col1\" class=\"data row1 col1\" >$4.23</td>\n",
       "                        <td id=\"T_9a5b4dba_7ace_11ea_a9db_c860007a1325row1_col2\" class=\"data row1 col2\" >$50.76</td>\n",
       "            </tr>\n",
       "            <tr>\n",
       "                        <th id=\"T_9a5b4dba_7ace_11ea_a9db_c860007a1325level0_row2\" class=\"row_heading level0 row2\" >82</th>\n",
       "                        <th id=\"T_9a5b4dba_7ace_11ea_a9db_c860007a1325level1_row2\" class=\"row_heading level1 row2\" >Nirvana</th>\n",
       "                        <td id=\"T_9a5b4dba_7ace_11ea_a9db_c860007a1325row2_col0\" class=\"data row2 col0\" >9</td>\n",
       "                        <td id=\"T_9a5b4dba_7ace_11ea_a9db_c860007a1325row2_col1\" class=\"data row2 col1\" >$4.90</td>\n",
       "                        <td id=\"T_9a5b4dba_7ace_11ea_a9db_c860007a1325row2_col2\" class=\"data row2 col2\" >$44.10</td>\n",
       "            </tr>\n",
       "            <tr>\n",
       "                        <th id=\"T_9a5b4dba_7ace_11ea_a9db_c860007a1325level0_row3\" class=\"row_heading level0 row3\" >145</th>\n",
       "                        <th id=\"T_9a5b4dba_7ace_11ea_a9db_c860007a1325level1_row3\" class=\"row_heading level1 row3\" >Fiery Glass Crusader</th>\n",
       "                        <td id=\"T_9a5b4dba_7ace_11ea_a9db_c860007a1325row3_col0\" class=\"data row3 col0\" >9</td>\n",
       "                        <td id=\"T_9a5b4dba_7ace_11ea_a9db_c860007a1325row3_col1\" class=\"data row3 col1\" >$4.58</td>\n",
       "                        <td id=\"T_9a5b4dba_7ace_11ea_a9db_c860007a1325row3_col2\" class=\"data row3 col2\" >$41.22</td>\n",
       "            </tr>\n",
       "            <tr>\n",
       "                        <th id=\"T_9a5b4dba_7ace_11ea_a9db_c860007a1325level0_row4\" class=\"row_heading level0 row4\" >103</th>\n",
       "                        <th id=\"T_9a5b4dba_7ace_11ea_a9db_c860007a1325level1_row4\" class=\"row_heading level1 row4\" >Singed Scalpel</th>\n",
       "                        <td id=\"T_9a5b4dba_7ace_11ea_a9db_c860007a1325row4_col0\" class=\"data row4 col0\" >8</td>\n",
       "                        <td id=\"T_9a5b4dba_7ace_11ea_a9db_c860007a1325row4_col1\" class=\"data row4 col1\" >$4.35</td>\n",
       "                        <td id=\"T_9a5b4dba_7ace_11ea_a9db_c860007a1325row4_col2\" class=\"data row4 col2\" >$34.80</td>\n",
       "            </tr>\n",
       "    </tbody></table>"
      ],
      "text/plain": [
       "<pandas.io.formats.style.Styler at 0x8e63048>"
      ]
     },
     "execution_count": 10,
     "metadata": {},
     "output_type": "execute_result"
    }
   ],
   "source": [
    "#Pulls down the item DataFrame created above and sets it to a new variable\n",
    "itemFormatProfit = item_df.sort_values([\"Total Purchase Value\"], ascending = False).head()\n",
    "\n",
    "#Formats the data to be displayed\n",
    "itemFormatProfit.style.format({\"Item Price\":\"${:,.2f}\", \"Total Purchase Value\":\"${:,.2f}\"})"
   ]
  },
  {
   "cell_type": "markdown",
   "metadata": {},
   "source": [
    "### Observable Trend"
   ]
  },
  {
   "cell_type": "markdown",
   "metadata": {},
   "source": [
    "First observable trend, Males are the majority in game play, and this can also be observed that males make the most purchases."
   ]
  },
  {
   "cell_type": "markdown",
   "metadata": {},
   "source": [
    "Second observed trend, that between ages 20-24 (non-discriminate to just males) shows this age range of players spends the most in purchases, this also is true because the age of players is heavily dominant in this range."
   ]
  }
 ],
 "metadata": {
  "anaconda-cloud": {},
  "kernel_info": {
   "name": "python3"
  },
  "kernelspec": {
   "display_name": "Python 3",
   "language": "python",
   "name": "python3"
  },
  "language_info": {
   "codemirror_mode": {
    "name": "ipython",
    "version": 3
   },
   "file_extension": ".py",
   "mimetype": "text/x-python",
   "name": "python",
   "nbconvert_exporter": "python",
   "pygments_lexer": "ipython3",
   "version": "3.7.6"
  },
  "latex_envs": {
   "LaTeX_envs_menu_present": true,
   "autoclose": false,
   "autocomplete": true,
   "bibliofile": "biblio.bib",
   "cite_by": "apalike",
   "current_citInitial": 1,
   "eqLabelWithNumbers": true,
   "eqNumInitial": 1,
   "hotkeys": {
    "equation": "Ctrl-E",
    "itemize": "Ctrl-I"
   },
   "labels_anchors": false,
   "latex_user_defs": false,
   "report_style_numbering": false,
   "user_envs_cfg": false
  },
  "nteract": {
   "version": "0.2.0"
  }
 },
 "nbformat": 4,
 "nbformat_minor": 2
}
